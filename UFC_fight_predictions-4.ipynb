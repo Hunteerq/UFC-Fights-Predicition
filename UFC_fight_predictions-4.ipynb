{
  "nbformat": 4,
  "nbformat_minor": 0,
  "metadata": {
    "colab": {
      "name": "UFC_fight_predictions.ipynb",
      "provenance": [],
      "collapsed_sections": []
    },
    "kernelspec": {
      "name": "python3",
      "display_name": "Python 3"
    }
  },
  "cells": [
    {
      "cell_type": "code",
      "metadata": {
        "id": "rjcgJsa-sh4o",
        "colab_type": "code",
        "colab": {}
      },
      "source": [
        "%matplotlib inline\n",
        "from google.colab import drive\n",
        "drive.mount('/content/drive')\n",
        "\n",
        "import sys\n",
        "!{sys.executable} -m pip install neupy\n"
      ],
      "execution_count": 0,
      "outputs": []
    },
    {
      "cell_type": "markdown",
      "metadata": {
        "id": "0jOKAIihxFsn",
        "colab_type": "text"
      },
      "source": [
        "Loading data"
      ]
    },
    {
      "cell_type": "code",
      "metadata": {
        "id": "tBZNEsCBssSi",
        "colab_type": "code",
        "colab": {}
      },
      "source": [
        "import pandas as pd\n",
        "\n",
        "pd.set_option('display.max_columns', None)\n",
        "\n",
        "df = pd.read_csv(\"/content/drive/My Drive/AI/MOW/UFC_fight_predictions/ufc_data/data.csv\")\n"
      ],
      "execution_count": 0,
      "outputs": []
    },
    {
      "cell_type": "markdown",
      "metadata": {
        "id": "QXySj6JF2N6d",
        "colab_type": "text"
      },
      "source": [
        "Data type"
      ]
    },
    {
      "cell_type": "code",
      "metadata": {
        "id": "OO3d37252NMx",
        "colab_type": "code",
        "colab": {}
      },
      "source": [
        "df.info(verbose=True)"
      ],
      "execution_count": 0,
      "outputs": []
    },
    {
      "cell_type": "markdown",
      "metadata": {
        "id": "kmR-Lt4YuxLO",
        "colab_type": "text"
      },
      "source": [
        "Static data analyze"
      ]
    },
    {
      "cell_type": "code",
      "metadata": {
        "id": "RirZ2r7HuU8O",
        "colab_type": "code",
        "colab": {}
      },
      "source": [
        "df.describe()"
      ],
      "execution_count": 0,
      "outputs": []
    },
    {
      "cell_type": "markdown",
      "metadata": {
        "id": "tpLda5vqu55e",
        "colab_type": "text"
      },
      "source": [
        "Amount of data nulls"
      ]
    },
    {
      "cell_type": "code",
      "metadata": {
        "id": "tVvd1AX9ucQO",
        "colab_type": "code",
        "colab": {}
      },
      "source": [
        "df.isnull().sum()"
      ],
      "execution_count": 0,
      "outputs": []
    },
    {
      "cell_type": "markdown",
      "metadata": {
        "id": "ID5L_AFMu8XV",
        "colab_type": "text"
      },
      "source": [
        "Histogram plots"
      ]
    },
    {
      "cell_type": "code",
      "metadata": {
        "id": "MvHG9OgCugMV",
        "colab_type": "code",
        "colab": {}
      },
      "source": [
        "df.select_dtypes(exclude=['object']).plot.hist(subplots=True, layout=(135,1), figsize=(100, 100), bins=100)"
      ],
      "execution_count": 0,
      "outputs": []
    },
    {
      "cell_type": "markdown",
      "metadata": {
        "id": "1Ge1T0IR3ON3",
        "colab_type": "text"
      },
      "source": [
        "Filling null values"
      ]
    },
    {
      "cell_type": "code",
      "metadata": {
        "id": "pvUijl9-vF47",
        "colab_type": "code",
        "colab": {}
      },
      "source": [
        "df.fillna(method='ffill', inplace=True)\n",
        "df.isnull().sum()"
      ],
      "execution_count": 0,
      "outputs": []
    },
    {
      "cell_type": "markdown",
      "metadata": {
        "id": "3pTHlYb43QKv",
        "colab_type": "text"
      },
      "source": [
        "Changing date to number columns"
      ]
    },
    {
      "cell_type": "code",
      "metadata": {
        "id": "oerRWCuqw4-N",
        "colab_type": "code",
        "colab": {}
      },
      "source": [
        "df['date']= pd.to_datetime(df['date'])\n",
        "\n",
        "df['year'] = [d.year for d in df['date']]\n",
        "df['month'] = [d.month for d in df['date']]\n",
        "df['day'] = [d.day for d in df['date']]"
      ],
      "execution_count": 0,
      "outputs": []
    },
    {
      "cell_type": "code",
      "metadata": {
        "id": "9KNA59lazAw8",
        "colab_type": "code",
        "colab": {}
      },
      "source": [
        "df = df.drop('date', 1)\n",
        "df.head()"
      ],
      "execution_count": 0,
      "outputs": []
    },
    {
      "cell_type": "markdown",
      "metadata": {
        "id": "6pWPBS_53HdX",
        "colab_type": "text"
      },
      "source": [
        "Changing categoric data to value"
      ]
    },
    {
      "cell_type": "code",
      "metadata": {
        "id": "XlXyjO0LzuCo",
        "colab_type": "code",
        "colab": {}
      },
      "source": [
        "from sklearn import preprocessing\n",
        "\n",
        "columns = list(df.select_dtypes(include=['object']).columns)\n",
        "for column in columns:\n",
        "  le = preprocessing.LabelEncoder()\n",
        "  le.fit(df[column])\n",
        "  df[column] = le.transform(df[column])\n",
        "\n",
        "df.head()\n",
        "\n"
      ],
      "execution_count": 0,
      "outputs": []
    },
    {
      "cell_type": "markdown",
      "metadata": {
        "id": "gz5lsT373iSU",
        "colab_type": "text"
      },
      "source": [
        "Data normalization to (0;1)"
      ]
    },
    {
      "cell_type": "code",
      "metadata": {
        "id": "psxGTIiK1lQO",
        "colab_type": "code",
        "colab": {}
      },
      "source": [
        "columns = list(df.columns)\n",
        "for column in columns:\n",
        "  x = df[[column]].values.astype(float)\n",
        "  min_max_scaler =  preprocessing.MinMaxScaler()\n",
        "  x_scaled = min_max_scaler.fit_transform(x)\n",
        "  df[[column]] = pd.DataFrame(x_scaled)\n",
        "\n",
        "\n",
        "df.head()\n"
      ],
      "execution_count": 0,
      "outputs": []
    },
    {
      "cell_type": "markdown",
      "metadata": {
        "id": "jX3aqECC9791",
        "colab_type": "text"
      },
      "source": [
        "New histograms after normalization"
      ]
    },
    {
      "cell_type": "code",
      "metadata": {
        "id": "jYBinnW05_Eq",
        "colab_type": "code",
        "colab": {}
      },
      "source": [
        "df.plot.hist(subplots=True, layout=(147,1), figsize=(100, 100), bins = 100)\n"
      ],
      "execution_count": 0,
      "outputs": []
    },
    {
      "cell_type": "markdown",
      "metadata": {
        "id": "1EEZa1LyFSH8",
        "colab_type": "text"
      },
      "source": [
        "Genetic Algorithm - Feature selection"
      ]
    },
    {
      "cell_type": "code",
      "metadata": {
        "id": "MiyYUfZv78Po",
        "colab_type": "code",
        "colab": {}
      },
      "source": [
        "from sklearn.feature_selection import SelectKBest, f_regression\n",
        "\n",
        "y = df['Winner']\n",
        "X = df.drop(columns=\"Winner\")\n",
        "\n",
        "\n",
        "selector = SelectKBest(f_regression ,k=100)\n",
        "selector = selector.fit(X, y)\n",
        "cols = selector.get_support(indices=True)\n",
        "df_new = df.iloc[:,cols]\n",
        "\n",
        "df_new.info()\n"
      ],
      "execution_count": 0,
      "outputs": []
    },
    {
      "cell_type": "code",
      "metadata": {
        "id": "MlKP4-sqDHXQ",
        "colab_type": "code",
        "colab": {}
      },
      "source": [
        "df_new.head()"
      ],
      "execution_count": 0,
      "outputs": []
    },
    {
      "cell_type": "markdown",
      "metadata": {
        "id": "EAVIWj3q_QLm",
        "colab_type": "text"
      },
      "source": [
        "Column reduction using PCA"
      ]
    },
    {
      "cell_type": "code",
      "metadata": {
        "id": "I24Hj_m5-vAh",
        "colab_type": "code",
        "colab": {}
      },
      "source": [
        "from sklearn.decomposition import PCA\n",
        "pca = PCA(.97)\n",
        "df_new_components = pca.fit_transform(df)\n",
        "\n",
        "pcaDf = pd.DataFrame(data = df_new_components)\n",
        "pcaDf.head()\n"
      ],
      "execution_count": 0,
      "outputs": []
    },
    {
      "cell_type": "markdown",
      "metadata": {
        "id": "qQd3TjIfCRrS",
        "colab_type": "text"
      },
      "source": [
        "Cross-validation for 10 element groups. 9 - train, 1 - validation.\n",
        "\n"
      ]
    },
    {
      "cell_type": "code",
      "metadata": {
        "id": "VZI_20Dc_dbX",
        "colab_type": "code",
        "colab": {}
      },
      "source": [
        "from sklearn.model_selection import train_test_split, cross_validate\n",
        "X_train, X_test, y_train, y_test = train_test_split(pcaDf, y, test_size = 0.1, random_state = 42)"
      ],
      "execution_count": 0,
      "outputs": []
    },
    {
      "cell_type": "markdown",
      "metadata": {
        "id": "-MIPcb8AGqS5",
        "colab_type": "text"
      },
      "source": [
        "Changing data from contiunos, to int (as 0 or 1)"
      ]
    },
    {
      "cell_type": "code",
      "metadata": {
        "id": "NY1HJyW3-gr3",
        "colab_type": "code",
        "colab": {}
      },
      "source": [
        "y_train = y_train.astype(int)\n",
        "y_test = y_test.astype(int)"
      ],
      "execution_count": 0,
      "outputs": []
    },
    {
      "cell_type": "markdown",
      "metadata": {
        "id": "F7ho3viyGuun",
        "colab_type": "text"
      },
      "source": [
        "#SVC\n",
        "Training and prediction"
      ]
    },
    {
      "cell_type": "code",
      "metadata": {
        "id": "b5i96gZMb_kY",
        "colab_type": "code",
        "colab": {}
      },
      "source": [
        "from sklearn import svm\n",
        "clv = svm.NuSVC()"
      ],
      "execution_count": 0,
      "outputs": []
    },
    {
      "cell_type": "code",
      "metadata": {
        "id": "M7iZs5NeE5xs",
        "colab_type": "code",
        "colab": {}
      },
      "source": [
        "clv.fit(X_train, y_train )\n",
        "pred_clv = clv.predict(X_test)"
      ],
      "execution_count": 0,
      "outputs": []
    },
    {
      "cell_type": "markdown",
      "metadata": {
        "id": "FQjYSKdkWOqL",
        "colab_type": "text"
      },
      "source": [
        "Cross validation"
      ]
    },
    {
      "cell_type": "code",
      "metadata": {
        "id": "D-5XoQNiUx6q",
        "colab_type": "code",
        "colab": {}
      },
      "source": [
        "scores = cross_validate(clv, X_train, y_train, cv=10, scoring='f1_macro')"
      ],
      "execution_count": 0,
      "outputs": []
    },
    {
      "cell_type": "code",
      "metadata": {
        "id": "Sy-iBb9pXvw3",
        "colab_type": "code",
        "colab": {}
      },
      "source": [
        "print(scores)"
      ],
      "execution_count": 0,
      "outputs": []
    },
    {
      "cell_type": "markdown",
      "metadata": {
        "id": "wb6aFeXgG9yU",
        "colab_type": "text"
      },
      "source": [
        "Metrics"
      ]
    },
    {
      "cell_type": "code",
      "metadata": {
        "id": "njQv8kbmN-Te",
        "colab_type": "code",
        "colab": {}
      },
      "source": [
        "from sklearn.metrics import classification_report\n",
        "from sklearn.metrics import confusion_matrix"
      ],
      "execution_count": 0,
      "outputs": []
    },
    {
      "cell_type": "code",
      "metadata": {
        "id": "yckVzY88FNqE",
        "colab_type": "code",
        "colab": {}
      },
      "source": [
        "print(classification_report(y_test, pred_clv))\n",
        "print(confusion_matrix(y_test, pred_clv))"
      ],
      "execution_count": 0,
      "outputs": []
    },
    {
      "cell_type": "markdown",
      "metadata": {
        "id": "BIiMJFU1Im87",
        "colab_type": "text"
      },
      "source": [
        "#Neural Network"
      ]
    },
    {
      "cell_type": "code",
      "metadata": {
        "id": "vNwsuDg6GdLK",
        "colab_type": "code",
        "colab": {}
      },
      "source": [
        "from sklearn.neural_network import MLPClassifier\n",
        "mlpc = MLPClassifier(hidden_layer_sizes=(11, 11, 11), max_iter = 500)"
      ],
      "execution_count": 0,
      "outputs": []
    },
    {
      "cell_type": "code",
      "metadata": {
        "id": "otpxdZ4hI8mP",
        "colab_type": "code",
        "colab": {}
      },
      "source": [
        "mlpc.fit(X_train, y_train)\n",
        "mlpc_predict = mlpc.predict(X_test)"
      ],
      "execution_count": 0,
      "outputs": []
    },
    {
      "cell_type": "code",
      "metadata": {
        "id": "hjS7qywfJQtg",
        "colab_type": "code",
        "colab": {}
      },
      "source": [
        "print(classification_report(y_test, mlpc_predict))\n",
        "print(confusion_matrix(y_test, mlpc_predict))"
      ],
      "execution_count": 0,
      "outputs": []
    },
    {
      "cell_type": "markdown",
      "metadata": {
        "id": "2p9a6kG7L-JR",
        "colab_type": "text"
      },
      "source": [
        "#PNN"
      ]
    },
    {
      "cell_type": "code",
      "metadata": {
        "id": "osXnBhmlJ7h_",
        "colab_type": "code",
        "colab": {}
      },
      "source": [
        "from neupy import algorithms\n",
        "pnn = algorithms.PNN(std=10, verbose=False)\n",
        "pnn.train(X_train, y_train)"
      ],
      "execution_count": 0,
      "outputs": []
    },
    {
      "cell_type": "code",
      "metadata": {
        "id": "lQqev-owMOIc",
        "colab_type": "code",
        "colab": {}
      },
      "source": [
        "pnn_pred = pnn.predict(X_test)"
      ],
      "execution_count": 0,
      "outputs": []
    },
    {
      "cell_type": "code",
      "metadata": {
        "id": "RIY4hlAEM5Ea",
        "colab_type": "code",
        "colab": {}
      },
      "source": [
        "print(classification_report(y_test, pnn_pred))\n",
        "print(confusion_matrix(y_test, mlpc_predict))"
      ],
      "execution_count": 0,
      "outputs": []
    },
    {
      "cell_type": "markdown",
      "metadata": {
        "id": "8shYlT_5SUUS",
        "colab_type": "text"
      },
      "source": [
        "#GA Tuning\n",
        "###We already reached 100% Accuracy, in consequence GA parameter tuning is redundant :)"
      ]
    }
  ]
}